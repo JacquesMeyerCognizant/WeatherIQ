{
 "cells": [
  {
   "cell_type": "markdown",
   "id": "e08a1fd9-1caf-4202-82ad-5b4cf01749d5",
   "metadata": {},
   "source": [
    "# Run code localy without endpo"
   ]
  },
  {
   "cell_type": "code",
   "execution_count": 1,
   "id": "25613392-936f-422b-9077-683e84faf87f",
   "metadata": {},
   "outputs": [
    {
     "name": "stdout",
     "output_type": "stream",
     "text": [
      ">>> model_fn called\n",
      ">>> input_fn called\n",
      ">>> predict_fn called\n",
      "Model description:\n",
      " \n",
      "        GenCast model at lower, 1deg, resolution, with 13 pressure levels and a\n",
      "        5 times refined icosahedral mesh. This model is trained on ERA5 data\n",
      "        from 1979 to 2018, and can be causally evaluated on 2019 and later years.\n",
      "        This model has a smaller memory footprint than the 0.25deg models.\n",
      "         \n",
      "\n",
      "Model license:\n",
      " \n",
      "The model weights are licensed under the Creative Commons\n",
      "Attribution-NonCommercial-ShareAlike 4.0 International (CC BY-NC-SA 4.0). You\n",
      "may obtain a copy of the License at:\n",
      "https://creativecommons.org/licenses/by-nc-sa/4.0/.\n",
      "The weights were trained on ERA5 data, see README for attribution statement.\n",
      " \n",
      "\n",
      "-------autoregression 1----------------\n",
      "Inputs:   {'batch': 1, 'time': 2, 'lat': 181, 'lon': 360, 'level': 13}\n",
      "Targets:  {'batch': 1, 'time': 7, 'lat': 181, 'lon': 360, 'level': 13}\n",
      "Forcings: {'batch': 1, 'time': 7, 'lon': 360}\n",
      "<xarray.Dataset>\n",
      "Dimensions:                   (batch: 1, time: 25, lat: 181, lon: 360, level: 13)\n",
      "Coordinates:\n",
      "  * lon                       (lon) float32 0.0 1.0 2.0 ... 357.0 358.0 359.0\n",
      "  * lat                       (lat) float32 -90.0 -89.0 -88.0 ... 88.0 89.0 90.0\n",
      "  * level                     (level) int64 50 100 150 200 ... 700 850 925 1000\n",
      "  * time                      (time) timedelta64[ns] 2 days 12:00:00 ... 3 da...\n",
      "    datetime                  (time) datetime64[ns] 2019-04-01 ... 2019-04-02\n",
      "Dimensions without coordinates: batch\n",
      "Data variables:\n",
      "    10m_u_component_of_wind   (batch, time, lat, lon) float64 0.1554 ... 1.643\n",
      "    10m_v_component_of_wind   (batch, time, lat, lon) float64 -0.1091 ... -0.433\n",
      "    2m_temperature            (batch, time, lat, lon) float64 220.9 ... 258.2\n",
      "    geopotential              (batch, time, level, lat, lon) float64 1.931e+0...\n",
      "    mean_sea_level_pressure   (batch, time, lat, lon) float64 1.006e+05 ... 1...\n",
      "    sea_surface_temperature   (batch, time, lat, lon) float64 nan nan ... 271.5\n",
      "    specific_humidity         (batch, time, level, lat, lon) float64 2.875e-0...\n",
      "    temperature               (batch, time, level, lat, lon) float64 214.6 .....\n",
      "    total_precipitation_12hr  (batch, time, lat, lon) float64 7.389e-05 ... 0...\n",
      "    u_component_of_wind       (batch, time, level, lat, lon) float64 0.6511 ....\n",
      "    v_component_of_wind       (batch, time, level, lat, lon) float64 -0.2272 ...\n",
      "    vertical_velocity         (batch, time, level, lat, lon) float64 0.000290...\n"
     ]
    }
   ],
   "source": [
    "\n",
    "import json\n",
    "from inference import model_fn, input_fn, predict_fn, output_fn\n",
    "\n",
    "def main():\n",
    "    # Simulate SageMaker environment\n",
    "    MODEL_PATH = \"./GenCast_1p0deg_2019.npz\"  # Update this path if needed\n",
    "\n",
    "    # Step 1: Load the model\n",
    "    model = model_fn(MODEL_PATH)\n",
    "\n",
    "    # Step 2: Create a sample input\n",
    "    sample_input = {\n",
    "        \"currentDate\": \"2019-03-29\",\n",
    "        \"targetDate\": \"2019-04-01\"\n",
    "    }\n",
    "    input_data_json = json.dumps(sample_input)\n",
    "\n",
    "    # Step 3: Process the input\n",
    "    processed_input = input_fn(input_data_json, content_type=\"application/json\")\n",
    "    processed_input\n",
    "\n",
    "    # Step 4: Run prediction\n",
    "    prediction = predict_fn(processed_input, model)\n",
    "\n",
    "    print(prediction)\n",
    "\n",
    "    # Step 5: Format the output\n",
    "    # output, content_type = output_fn(prediction, accept=\"application/json\")\n",
    "\n",
    "    # # Print the result\n",
    "    # print(\"Prediction Output:\")\n",
    "    # print(output)\n",
    "\n",
    "if __name__ == \"__main__\":\n",
    "    main()"
   ]
  }
 ],
 "metadata": {
  "kernelspec": {
   "display_name": "Python (gencast3)",
   "language": "python",
   "name": "gencast"
  },
  "language_info": {
   "codemirror_mode": {
    "name": "ipython",
    "version": 3
   },
   "file_extension": ".py",
   "mimetype": "text/x-python",
   "name": "python",
   "nbconvert_exporter": "python",
   "pygments_lexer": "ipython3",
   "version": "3.10.18"
  }
 },
 "nbformat": 4,
 "nbformat_minor": 5
}
